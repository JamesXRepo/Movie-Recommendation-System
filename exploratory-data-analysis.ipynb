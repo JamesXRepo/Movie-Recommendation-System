{
 "cells": [
  {
   "cell_type": "markdown",
   "metadata": {},
   "source": [
    "**Objective**\n",
    "\n",
    "The purpose of this notebook is to conduct initial data analysis on the movie recommendation dataset to get an basic understanding\n",
    "of what needs to be done from before any preprocessing has begun"
   ]
  },
  {
   "cell_type": "code",
   "execution_count": 13,
   "metadata": {},
   "outputs": [],
   "source": [
    "import pandas as pd\n",
    "import seaborn as sns\n",
    "import matplotlib.pyplot as plt"
   ]
  },
  {
   "cell_type": "markdown",
   "metadata": {},
   "source": [
    "The ml-100k folder contains a series of files providing information on 100,000 ratings provided by users and other metadata. Based on what was detailed in the README file, u.item and u.data contains the movie and user related information we need for our user based collaborative model."
   ]
  },
  {
   "cell_type": "code",
   "execution_count": 5,
   "metadata": {},
   "outputs": [
    {
     "name": "stdout",
     "output_type": "stream",
     "text": [
      "   0                  1            2   3   \\\n",
      "0   1   Toy Story (1995)  01-Jan-1995 NaN   \n",
      "1   2   GoldenEye (1995)  01-Jan-1995 NaN   \n",
      "2   3  Four Rooms (1995)  01-Jan-1995 NaN   \n",
      "3   4  Get Shorty (1995)  01-Jan-1995 NaN   \n",
      "4   5     Copycat (1995)  01-Jan-1995 NaN   \n",
      "\n",
      "                                                  4   5   6   7   8   9   ...  \\\n",
      "0  http://us.imdb.com/M/title-exact?Toy%20Story%2...   0   0   0   1   1  ...   \n",
      "1  http://us.imdb.com/M/title-exact?GoldenEye%20(...   0   1   1   0   0  ...   \n",
      "2  http://us.imdb.com/M/title-exact?Four%20Rooms%...   0   0   0   0   0  ...   \n",
      "3  http://us.imdb.com/M/title-exact?Get%20Shorty%...   0   1   0   0   0  ...   \n",
      "4  http://us.imdb.com/M/title-exact?Copycat%20(1995)   0   0   0   0   0  ...   \n",
      "\n",
      "   14  15  16  17  18  19  20  21  22  23  \n",
      "0   0   0   0   0   0   0   0   0   0   0  \n",
      "1   0   0   0   0   0   0   0   1   0   0  \n",
      "2   0   0   0   0   0   0   0   1   0   0  \n",
      "3   0   0   0   0   0   0   0   0   0   0  \n",
      "4   0   0   0   0   0   0   0   1   0   0  \n",
      "\n",
      "[5 rows x 24 columns]\n"
     ]
    }
   ],
   "source": [
    "# Print out what is contained in u.item file\n",
    "item_df = pd.read_csv(\"ml-100k/u.item\",sep=\"|\",header=None,encoding='ISO-8859-1')\n",
    "print(item_df.head())"
   ]
  },
  {
   "cell_type": "markdown",
   "metadata": {},
   "source": [
    "**Observations**\n",
    "The first two column of u.item contains the movie_id and movie_title, what the rest are the release dates, IMBd URL, and genre.\n",
    "Since we will be building a user based collaborative system, the only info we really need are movie_id and title"
   ]
  },
  {
   "cell_type": "code",
   "execution_count": 29,
   "metadata": {},
   "outputs": [
    {
     "name": "stdout",
     "output_type": "stream",
     "text": [
      "u.item containing 1682 movies, has no duplicated movies\n"
     ]
    }
   ],
   "source": [
    "# Check for potential duplicated movie rows\n",
    "rows_in_item_df = item_df.shape[0]\n",
    "unique_movie_count = item_df.iloc[:,0].nunique()\n",
    "if rows_in_item_df == unique_movie_count:\n",
    "    print(\"u.item containing %s movies, has no duplicated movies\" % unique_movie_count)"
   ]
  },
  {
   "cell_type": "code",
   "execution_count": 7,
   "metadata": {},
   "outputs": [
    {
     "name": "stdout",
     "output_type": "stream",
     "text": [
      "     0    1  2          3\n",
      "0  196  242  3  881250949\n",
      "1  186  302  3  891717742\n",
      "2   22  377  1  878887116\n",
      "3  244   51  2  880606923\n",
      "4  166  346  1  886397596\n"
     ]
    }
   ],
   "source": [
    "# Print out what is contained in u.data file\n",
    "user_df = pd.read_csv(\"ml-100k/u.data\",sep=\"\\t\",header=None,encoding=\"ISO-8859-1\")\n",
    "print(user_df.head())"
   ]
  },
  {
   "cell_type": "markdown",
   "metadata": {},
   "source": [
    "**Observations**\n",
    "The u.data file contains user id, item id, rating given to item, and timestamp. The item id foreign key referencing movie_id from the u.item file.\n",
    "In our particular case, we will not take into account the time at which user provided the movie rating. Instead we will only use the user id, item id, and rating"
   ]
  },
  {
   "cell_type": "code",
   "execution_count": 12,
   "metadata": {},
   "outputs": [
    {
     "name": "stdout",
     "output_type": "stream",
     "text": [
      "Number of users: 943\n"
     ]
    }
   ],
   "source": [
    "# Get number of users contained in this dataset\n",
    "num_of_users = user_df.iloc[:,0].nunique()\n",
    "print(\"Number of users:\",num_of_users)"
   ]
  },
  {
   "cell_type": "code",
   "execution_count": 11,
   "metadata": {},
   "outputs": [
    {
     "data": {
      "text/plain": [
       "count    943.000000\n",
       "mean     106.044539\n",
       "std      100.931743\n",
       "min       20.000000\n",
       "25%       33.000000\n",
       "50%       65.000000\n",
       "75%      148.000000\n",
       "max      737.000000\n",
       "Name: count, dtype: float64"
      ]
     },
     "execution_count": 11,
     "metadata": {},
     "output_type": "execute_result"
    }
   ],
   "source": [
    "# Get general stats on the number of ratings give by each user\n",
    "count_ratings_per_user = user_df.iloc[:,0].value_counts()\n",
    "count_ratings_per_user.describe()"
   ]
  },
  {
   "cell_type": "code",
   "execution_count": 23,
   "metadata": {},
   "outputs": [
    {
     "data": {
      "image/png": "[encoded data removed]",
      "text/plain": [
       "<Figure size 500x100 with 1 Axes>"
      ]
     },
     "metadata": {},
     "output_type": "display_data"
    },
    {
     "data": {
      "image/png": "[encoded data removed]",
      "text/plain": [
       "<Figure size 500x300 with 1 Axes>"
      ]
     },
     "metadata": {},
     "output_type": "display_data"
    }
   ],
   "source": [
    "# Plot a boxplot\n",
    "plt.figure(figsize=(5, 1))\n",
    "sns.boxplot(x=count_ratings_per_user)\n",
    "plt.title('Boxplot of Count of Ratings per User')\n",
    "plt.xlabel('Count of Ratings')\n",
    "plt.show()\n",
    "\n",
    "# Plot a histogram\n",
    "plt.figure(figsize=(5, 3))\n",
    "sns.histplot(count_ratings_per_user, kde=False, bins=20)\n",
    "plt.title('Histogram of Count of Ratings per User')\n",
    "plt.xlabel('Count of Ratings')\n",
    "plt.ylabel('Frequency')\n",
    "plt.show()"
   ]
  },
  {
   "cell_type": "markdown",
   "metadata": {},
   "source": [
    "**Observations**\n",
    "While the minimal count of ratings for a given user is 20, 75% of users fall within 20-148 user counts. The right-skewed histogram provides confirmation to the observation while also showing the existence of outliers.\n",
    "\n",
    "**Next Step**\n",
    "Since outliers users with signficantly more ratings than others may introduce bias and cause potential large computational overhead, it would make sense to only considered 0-75% of data within u.data"
   ]
  }
 ],
 "metadata": {
  "kernelspec": {
   "display_name": "Python 3",
   "language": "python",
   "name": "python3"
  },
  "language_info": {
   "codemirror_mode": {
    "name": "ipython",
    "version": 3
   },
   "file_extension": ".py",
   "mimetype": "text/x-python",
   "name": "python",
   "nbconvert_exporter": "python",
   "pygments_lexer": "ipython3",
   "version": "3.11.4"
  }
 },
 "nbformat": 4,
 "nbformat_minor": 2
}
